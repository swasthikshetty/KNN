{
 "cells": [
  {
   "cell_type": "code",
   "execution_count": 1,
   "metadata": {},
   "outputs": [],
   "source": [
    "import pandas as pd\n",
    "import numpy as np\n",
    "import matplotlib.pyplot as plt"
   ]
  },
  {
   "cell_type": "code",
   "execution_count": 2,
   "metadata": {},
   "outputs": [
    {
     "data": {
      "text/html": [
       "<div>\n",
       "<style scoped>\n",
       "    .dataframe tbody tr th:only-of-type {\n",
       "        vertical-align: middle;\n",
       "    }\n",
       "\n",
       "    .dataframe tbody tr th {\n",
       "        vertical-align: top;\n",
       "    }\n",
       "\n",
       "    .dataframe thead th {\n",
       "        text-align: right;\n",
       "    }\n",
       "</style>\n",
       "<table border=\"1\" class=\"dataframe\">\n",
       "  <thead>\n",
       "    <tr style=\"text-align: right;\">\n",
       "      <th></th>\n",
       "      <th>Sepal.Length</th>\n",
       "      <th>Sepal.Width</th>\n",
       "      <th>Petal.Length</th>\n",
       "      <th>Petal.Width</th>\n",
       "      <th>Species</th>\n",
       "    </tr>\n",
       "  </thead>\n",
       "  <tbody>\n",
       "    <tr>\n",
       "      <th>0</th>\n",
       "      <td>5.1</td>\n",
       "      <td>3.5</td>\n",
       "      <td>1.4</td>\n",
       "      <td>0.2</td>\n",
       "      <td>setosa</td>\n",
       "    </tr>\n",
       "    <tr>\n",
       "      <th>1</th>\n",
       "      <td>4.9</td>\n",
       "      <td>3.0</td>\n",
       "      <td>1.4</td>\n",
       "      <td>0.2</td>\n",
       "      <td>setosa</td>\n",
       "    </tr>\n",
       "    <tr>\n",
       "      <th>2</th>\n",
       "      <td>4.7</td>\n",
       "      <td>3.2</td>\n",
       "      <td>1.3</td>\n",
       "      <td>0.2</td>\n",
       "      <td>setosa</td>\n",
       "    </tr>\n",
       "    <tr>\n",
       "      <th>3</th>\n",
       "      <td>4.6</td>\n",
       "      <td>3.1</td>\n",
       "      <td>1.5</td>\n",
       "      <td>0.2</td>\n",
       "      <td>setosa</td>\n",
       "    </tr>\n",
       "    <tr>\n",
       "      <th>4</th>\n",
       "      <td>5.0</td>\n",
       "      <td>3.6</td>\n",
       "      <td>1.4</td>\n",
       "      <td>0.2</td>\n",
       "      <td>setosa</td>\n",
       "    </tr>\n",
       "    <tr>\n",
       "      <th>...</th>\n",
       "      <td>...</td>\n",
       "      <td>...</td>\n",
       "      <td>...</td>\n",
       "      <td>...</td>\n",
       "      <td>...</td>\n",
       "    </tr>\n",
       "    <tr>\n",
       "      <th>145</th>\n",
       "      <td>6.7</td>\n",
       "      <td>3.0</td>\n",
       "      <td>5.2</td>\n",
       "      <td>2.3</td>\n",
       "      <td>virginica</td>\n",
       "    </tr>\n",
       "    <tr>\n",
       "      <th>146</th>\n",
       "      <td>6.3</td>\n",
       "      <td>2.5</td>\n",
       "      <td>5.0</td>\n",
       "      <td>1.9</td>\n",
       "      <td>virginica</td>\n",
       "    </tr>\n",
       "    <tr>\n",
       "      <th>147</th>\n",
       "      <td>6.5</td>\n",
       "      <td>3.0</td>\n",
       "      <td>5.2</td>\n",
       "      <td>2.0</td>\n",
       "      <td>virginica</td>\n",
       "    </tr>\n",
       "    <tr>\n",
       "      <th>148</th>\n",
       "      <td>6.2</td>\n",
       "      <td>3.4</td>\n",
       "      <td>5.4</td>\n",
       "      <td>2.3</td>\n",
       "      <td>virginica</td>\n",
       "    </tr>\n",
       "    <tr>\n",
       "      <th>149</th>\n",
       "      <td>5.9</td>\n",
       "      <td>3.0</td>\n",
       "      <td>5.1</td>\n",
       "      <td>1.8</td>\n",
       "      <td>virginica</td>\n",
       "    </tr>\n",
       "  </tbody>\n",
       "</table>\n",
       "<p>150 rows × 5 columns</p>\n",
       "</div>"
      ],
      "text/plain": [
       "     Sepal.Length  Sepal.Width  Petal.Length  Petal.Width    Species\n",
       "0             5.1          3.5           1.4          0.2     setosa\n",
       "1             4.9          3.0           1.4          0.2     setosa\n",
       "2             4.7          3.2           1.3          0.2     setosa\n",
       "3             4.6          3.1           1.5          0.2     setosa\n",
       "4             5.0          3.6           1.4          0.2     setosa\n",
       "..            ...          ...           ...          ...        ...\n",
       "145           6.7          3.0           5.2          2.3  virginica\n",
       "146           6.3          2.5           5.0          1.9  virginica\n",
       "147           6.5          3.0           5.2          2.0  virginica\n",
       "148           6.2          3.4           5.4          2.3  virginica\n",
       "149           5.9          3.0           5.1          1.8  virginica\n",
       "\n",
       "[150 rows x 5 columns]"
      ]
     },
     "execution_count": 2,
     "metadata": {},
     "output_type": "execute_result"
    }
   ],
   "source": [
    "iris = pd.read_csv(\"C:\\\\Users\\\\Swathi\\\\Desktop\\\\Excelr Classes\\\\Assignments\\\\10.KNN\\\\iris.csv\")\n",
    "iris"
   ]
  },
  {
   "cell_type": "markdown",
   "metadata": {},
   "source": [
    "# Split dataset into Train and Test "
   ]
  },
  {
   "cell_type": "code",
   "execution_count": 3,
   "metadata": {},
   "outputs": [],
   "source": [
    "from sklearn.model_selection import train_test_split\n",
    "train,test= train_test_split(iris,test_size=0.2)"
   ]
  },
  {
   "cell_type": "markdown",
   "metadata": {},
   "source": [
    "# import KNN module"
   ]
  },
  {
   "cell_type": "code",
   "execution_count": 4,
   "metadata": {},
   "outputs": [],
   "source": [
    "from sklearn.neighbors import KNeighborsClassifier as KNC"
   ]
  },
  {
   "cell_type": "markdown",
   "metadata": {},
   "source": [
    "# Identify value of 'K'"
   ]
  },
  {
   "cell_type": "code",
   "execution_count": 5,
   "metadata": {},
   "outputs": [
    {
     "name": "stdout",
     "output_type": "stream",
     "text": [
      "[[0.9666666666666667, 0.9666666666666667], [0.9833333333333333, 0.9666666666666667], [0.975, 0.9666666666666667], [0.9666666666666667, 0.9666666666666667], [0.975, 0.9666666666666667], [0.9666666666666667, 0.9666666666666667], [0.975, 0.9666666666666667], [0.9833333333333333, 0.9666666666666667], [0.975, 0.9666666666666667], [0.9666666666666667, 0.9666666666666667], [0.9583333333333334, 0.9666666666666667], [0.9416666666666667, 0.9666666666666667], [0.9583333333333334, 0.9666666666666667], [0.9416666666666667, 0.9666666666666667], [0.9416666666666667, 0.9666666666666667], [0.9333333333333333, 0.9666666666666667], [0.9333333333333333, 1.0], [0.9416666666666667, 1.0], [0.925, 1.0], [0.925, 0.9666666666666667], [0.9166666666666666, 0.9666666666666667], [0.9333333333333333, 0.9], [0.9166666666666666, 0.9333333333333333], [0.9083333333333333, 0.9333333333333333]]\n",
      "legth : 24\n"
     ]
    }
   ],
   "source": [
    "acc=[]\n",
    "\n",
    "for i in range(3,50,2):\n",
    "    neighbour = KNC(n_neighbors=i)\n",
    "    neighbour.fit(train.iloc[:,0:4],train.iloc[:,4])\n",
    "    train_acc= np.mean(neighbour.predict(train.iloc[:,0:4])==train.iloc[:,4])\n",
    "    test_acc= np.mean(neighbour.predict(test.iloc[:,0:4])==test.iloc[:,4])\n",
    "    acc.append([train_acc,test_acc])\n",
    "print(acc)\n",
    "print(\"legth :\",len(acc))\n"
   ]
  },
  {
   "cell_type": "markdown",
   "metadata": {},
   "source": [
    "# visualize obtained 'k' value on chart"
   ]
  },
  {
   "cell_type": "code",
   "execution_count": 6,
   "metadata": {},
   "outputs": [
    {
     "data": {
      "image/png": "[encoded data removed]",
      "text/plain": [
       "<Figure size 432x288 with 1 Axes>"
      ]
     },
     "metadata": {
      "needs_background": "light"
     },
     "output_type": "display_data"
    }
   ],
   "source": [
    "plt.plot(np.arange(3,50,2),[i[0] for i in acc],\"r\")\n",
    "plt.plot(np.arange(3,50,2),[i[1] for i in acc],\"g\")\n",
    "plt.legend([\"Train\",\"Test\"])\n",
    "plt.xticks(np.arange(3,50,2))\n",
    "plt.show()"
   ]
  },
  {
   "cell_type": "markdown",
   "metadata": {},
   "source": [
    "# Examine model when K = 3"
   ]
  },
  {
   "cell_type": "code",
   "execution_count": 7,
   "metadata": {},
   "outputs": [
    {
     "name": "stdout",
     "output_type": "stream",
     "text": [
      "K=3 :  0.9666666666666667 0.9666666666666667\n"
     ]
    }
   ],
   "source": [
    "neighbour=KNC(n_neighbors=3)\n",
    "neighbour.fit(train.iloc[:,0:4],train.iloc[:,4])\n",
    "train_acc= np.mean(neighbour.predict(train.iloc[:,0:4])==train.iloc[:,4])\n",
    "test_acc= np.mean(neighbour.predict(test.iloc[:,0:4])==test.iloc[:,4])\n",
    "print(\"K=3 : \",train_acc,test_acc)"
   ]
  },
  {
   "cell_type": "markdown",
   "metadata": {},
   "source": [
    "# Examine model when K = 5"
   ]
  },
  {
   "cell_type": "code",
   "execution_count": 8,
   "metadata": {},
   "outputs": [
    {
     "name": "stdout",
     "output_type": "stream",
     "text": [
      "K=5 :  0.9833333333333333 0.9666666666666667\n"
     ]
    }
   ],
   "source": [
    "neighbour=KNC(n_neighbors=5)\n",
    "neighbour.fit(train.iloc[:,0:4],train.iloc[:,4])\n",
    "train_acc= np.mean(neighbour.predict(train.iloc[:,0:4])==train.iloc[:,4])\n",
    "test_acc= np.mean(neighbour.predict(test.iloc[:,0:4])==test.iloc[:,4])\n",
    "print(\"K=5 : \",train_acc,test_acc)"
   ]
  },
  {
   "cell_type": "markdown",
   "metadata": {},
   "source": [
    "# Examine model when K = 11"
   ]
  },
  {
   "cell_type": "code",
   "execution_count": 9,
   "metadata": {},
   "outputs": [
    {
     "name": "stdout",
     "output_type": "stream",
     "text": [
      "K=11 :  0.975 0.9666666666666667\n"
     ]
    }
   ],
   "source": [
    "neighbour=KNC(n_neighbors=11)\n",
    "neighbour.fit(train.iloc[:,0:4],train.iloc[:,4])\n",
    "train_acc= np.mean(neighbour.predict(train.iloc[:,0:4])==train.iloc[:,4])\n",
    "test_acc= np.mean(neighbour.predict(test.iloc[:,0:4])==test.iloc[:,4])\n",
    "print(\"K=11 : \",train_acc,test_acc)"
   ]
  },
  {
   "cell_type": "markdown",
   "metadata": {},
   "source": [
    "# Examine model when K = 13"
   ]
  },
  {
   "cell_type": "code",
   "execution_count": 10,
   "metadata": {},
   "outputs": [
    {
     "name": "stdout",
     "output_type": "stream",
     "text": [
      "K=13 :  0.9666666666666667 0.9666666666666667\n"
     ]
    }
   ],
   "source": [
    "neighbour=KNC(n_neighbors=13)\n",
    "neighbour.fit(train.iloc[:,0:4],train.iloc[:,4])\n",
    "train_acc= np.mean(neighbour.predict(train.iloc[:,0:4])==train.iloc[:,4])\n",
    "test_acc= np.mean(neighbour.predict(test.iloc[:,0:4])==test.iloc[:,4])\n",
    "print(\"K=13 : \",train_acc,test_acc)"
   ]
  },
  {
   "cell_type": "code",
   "execution_count": 11,
   "metadata": {},
   "outputs": [],
   "source": [
    "# as we can see k=11 give the best results , there is no point going forwards"
   ]
  },
  {
   "cell_type": "code",
   "execution_count": null,
   "metadata": {},
   "outputs": [],
   "source": []
  }
 ],
 "metadata": {
  "kernelspec": {
   "display_name": "Python 3",
   "language": "python",
   "name": "python3"
  },
  "language_info": {
   "codemirror_mode": {
    "name": "ipython",
    "version": 3
   },
   "file_extension": ".py",
   "mimetype": "text/x-python",
   "name": "python",
   "nbconvert_exporter": "python",
   "pygments_lexer": "ipython3",
   "version": "3.7.6"
  }
 },
 "nbformat": 4,
 "nbformat_minor": 4
}
